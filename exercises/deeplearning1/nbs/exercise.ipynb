{
 "cells": [
  {
   "cell_type": "code",
   "execution_count": 1,
   "metadata": {
    "collapsed": true
   },
   "outputs": [],
   "source": [
    "%matplotlib inline"
   ]
  },
  {
   "cell_type": "code",
   "execution_count": 2,
   "metadata": {
    "collapsed": true
   },
   "outputs": [],
   "source": [
    "path = \"../../../kaggle/dogs-vs-cats-redux-kernels-edition/\""
   ]
  },
  {
   "cell_type": "code",
   "execution_count": 3,
   "metadata": {
    "collapsed": true
   },
   "outputs": [],
   "source": [
    "from __future__ import division,print_function\n",
    "\n",
    "import os, json\n",
    "from glob import glob\n",
    "import numpy as np\n",
    "np.set_printoptions(precision=4, linewidth=100)\n",
    "from matplotlib import pyplot as plt"
   ]
  },
  {
   "cell_type": "code",
   "execution_count": 4,
   "metadata": {},
   "outputs": [
    {
     "name": "stderr",
     "output_type": "stream",
     "text": [
      "Using Theano backend.\n"
     ]
    }
   ],
   "source": [
    "import utils; reload(utils)\n",
    "from utils import plots"
   ]
  },
  {
   "cell_type": "code",
   "execution_count": 5,
   "metadata": {
    "collapsed": true
   },
   "outputs": [],
   "source": [
    "batch_size=64"
   ]
  },
  {
   "cell_type": "code",
   "execution_count": 6,
   "metadata": {
    "collapsed": true
   },
   "outputs": [],
   "source": [
    "import vgg16; reload(vgg16)\n",
    "from vgg16 import Vgg16"
   ]
  },
  {
   "cell_type": "code",
   "execution_count": null,
   "metadata": {
    "scrolled": true
   },
   "outputs": [
    {
     "name": "stdout",
     "output_type": "stream",
     "text": [
      "Found 22980 images belonging to 2 classes.\n",
      "Found 1990 images belonging to 2 classes.\n",
      "Epoch 1/1\n",
      "22976/22980 [============================>.] - ETA: 2s - loss: 0.1221 - acc: 0.9679 "
     ]
    }
   ],
   "source": [
    "vgg =Vgg16()\n",
    "\n",
    "batches = vgg.get_batches(path + 'train', batch_size=batch_size)\n",
    "val_batches = vgg.get_batches(path + 'valid', batch_size=batch_size * 2)\n",
    "vgg.finetune(batches)\n",
    "vgg.fit(batches, val_batches,  nb_epoch=1)\n"
   ]
  },
  {
   "cell_type": "code",
   "execution_count": null,
   "metadata": {},
   "outputs": [],
   "source": [
    "test_batches = vgg.get_batches(path + 'test', batch_size=batch_size, shuffle=False)"
   ]
  },
  {
   "cell_type": "code",
   "execution_count": null,
   "metadata": {
    "collapsed": true
   },
   "outputs": [],
   "source": [
    "import csv"
   ]
  },
  {
   "cell_type": "code",
   "execution_count": null,
   "metadata": {
    "collapsed": true
   },
   "outputs": [],
   "source": [
    "dogIndex = batches.class_indices['dogs']"
   ]
  },
  {
   "cell_type": "code",
   "execution_count": null,
   "metadata": {},
   "outputs": [],
   "source": [
    "with open('kaggle_catsdogs.csv', 'w') as csvfile:\n",
    "    # assign Kaggle column names\n",
    "    fieldnames = ['id', 'label']\n",
    "\n",
    "    # instaniate DictWriter to write to csv\n",
    "    writer = csv.DictWriter(csvfile, fieldnames=fieldnames)\n",
    "\n",
    "    # write colnum names to csv\n",
    "    writer.writeheader()\n",
    "    # while loop to continue loading batches after the first\n",
    "    # batch of 64 elements are analyzed\n",
    "    index = 0\n",
    "    imgs, labels = next(test_batches)\n",
    "    while (index < len(test_batches.filenames)):\n",
    "\n",
    "        # run images through prediction method\n",
    "        preds = vgg.model.predict(imgs, True)\n",
    "        \n",
    "\n",
    "        #loop to format predictions and files id\n",
    "        for i in range(len(preds)):\n",
    "            dogProbability = preds[i][dogIndex]\n",
    "\n",
    "            # split to get file id\n",
    "            filename = test_batches.filenames[index].split('/')[1].split('.')[0]\n",
    "            index = index + 1\n",
    "            print ('{},{:.1f}'.format(filename, dogProbability)) \n",
    "            writer.writerow({'id': filename, 'label': dogProbability})\n",
    "        imgs, labels = next(test_batches)\n",
    "        \n"
   ]
  },
  {
   "cell_type": "code",
   "execution_count": null,
   "metadata": {
    "collapsed": true
   },
   "outputs": [],
   "source": []
  }
 ],
 "metadata": {
  "kernelspec": {
   "display_name": "Python [conda root]",
   "language": "python",
   "name": "conda-root-py"
  },
  "language_info": {
   "codemirror_mode": {
    "name": "ipython",
    "version": 2
   },
   "file_extension": ".py",
   "mimetype": "text/x-python",
   "name": "python",
   "nbconvert_exporter": "python",
   "pygments_lexer": "ipython2",
   "version": "2.7.13"
  }
 },
 "nbformat": 4,
 "nbformat_minor": 2
}
